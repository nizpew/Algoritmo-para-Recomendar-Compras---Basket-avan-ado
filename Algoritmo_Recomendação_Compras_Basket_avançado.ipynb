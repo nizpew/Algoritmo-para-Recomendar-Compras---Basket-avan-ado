{
  "nbformat": 4,
  "nbformat_minor": 0,
  "metadata": {
    "colab": {
      "provenance": []
    },
    "kernelspec": {
      "name": "python3",
      "display_name": "Python 3"
    },
    "language_info": {
      "name": "python"
    }
  },
  "cells": [
    {
      "cell_type": "code",
      "source": [],
      "metadata": {
        "id": "S713kYeh_gJE"
      },
      "execution_count": null,
      "outputs": []
    },
    {
      "cell_type": "markdown",
      "source": [
        "carregando o dataset\n"
      ],
      "metadata": {
        "id": "d5UYGcf2_ftE"
      }
    },
    {
      "cell_type": "code",
      "source": [
        "!pip install kagglehub[pandas-datasets]\n"
      ],
      "metadata": {
        "colab": {
          "base_uri": "https://localhost:8080/"
        },
        "id": "pFNCjI0L9Jzd",
        "outputId": "302e2774-9849-4292-97c4-adf2b49425a9"
      },
      "execution_count": 3,
      "outputs": [
        {
          "output_type": "stream",
          "name": "stdout",
          "text": [
            "Requirement already satisfied: kagglehub[pandas-datasets] in /usr/local/lib/python3.11/dist-packages (0.3.12)\n",
            "Requirement already satisfied: packaging in /usr/local/lib/python3.11/dist-packages (from kagglehub[pandas-datasets]) (24.2)\n",
            "Requirement already satisfied: pyyaml in /usr/local/lib/python3.11/dist-packages (from kagglehub[pandas-datasets]) (6.0.2)\n",
            "Requirement already satisfied: requests in /usr/local/lib/python3.11/dist-packages (from kagglehub[pandas-datasets]) (2.32.3)\n",
            "Requirement already satisfied: tqdm in /usr/local/lib/python3.11/dist-packages (from kagglehub[pandas-datasets]) (4.67.1)\n",
            "Requirement already satisfied: pandas in /usr/local/lib/python3.11/dist-packages (from kagglehub[pandas-datasets]) (2.2.2)\n",
            "Requirement already satisfied: numpy>=1.23.2 in /usr/local/lib/python3.11/dist-packages (from pandas->kagglehub[pandas-datasets]) (2.0.2)\n",
            "Requirement already satisfied: python-dateutil>=2.8.2 in /usr/local/lib/python3.11/dist-packages (from pandas->kagglehub[pandas-datasets]) (2.9.0.post0)\n",
            "Requirement already satisfied: pytz>=2020.1 in /usr/local/lib/python3.11/dist-packages (from pandas->kagglehub[pandas-datasets]) (2025.2)\n",
            "Requirement already satisfied: tzdata>=2022.7 in /usr/local/lib/python3.11/dist-packages (from pandas->kagglehub[pandas-datasets]) (2025.2)\n",
            "Requirement already satisfied: charset-normalizer<4,>=2 in /usr/local/lib/python3.11/dist-packages (from requests->kagglehub[pandas-datasets]) (3.4.2)\n",
            "Requirement already satisfied: idna<4,>=2.5 in /usr/local/lib/python3.11/dist-packages (from requests->kagglehub[pandas-datasets]) (3.10)\n",
            "Requirement already satisfied: urllib3<3,>=1.21.1 in /usr/local/lib/python3.11/dist-packages (from requests->kagglehub[pandas-datasets]) (2.4.0)\n",
            "Requirement already satisfied: certifi>=2017.4.17 in /usr/local/lib/python3.11/dist-packages (from requests->kagglehub[pandas-datasets]) (2025.4.26)\n",
            "Requirement already satisfied: six>=1.5 in /usr/local/lib/python3.11/dist-packages (from python-dateutil>=2.8.2->pandas->kagglehub[pandas-datasets]) (1.17.0)\n"
          ]
        }
      ]
    },
    {
      "cell_type": "code",
      "execution_count": 8,
      "metadata": {
        "colab": {
          "base_uri": "https://localhost:8080/"
        },
        "id": "tygIQS0a8xvR",
        "outputId": "e0ffd276-f004-4985-abaf-d4cc6fbc8bc2"
      },
      "outputs": [
        {
          "output_type": "stream",
          "name": "stderr",
          "text": [
            "<ipython-input-8-db9ca162c2dd>:10: DeprecationWarning: load_dataset is deprecated and will be removed in a future version.\n",
            "  df = kagglehub.load_dataset(\n"
          ]
        },
        {
          "output_type": "stream",
          "name": "stdout",
          "text": [
            "First 5 records:\n",
            "   Member_number        Date   itemDescription\n",
            "0           1808  21-07-2015    tropical fruit\n",
            "1           2552  05-01-2015        whole milk\n",
            "2           2300  19-09-2015         pip fruit\n",
            "3           1187  12-12-2015  other vegetables\n",
            "4           3037  01-02-2015        whole milk\n"
          ]
        }
      ],
      "source": [
        "# pip install kagglehub[pandas-datasets]\n",
        "\n",
        "import kagglehub\n",
        "from kagglehub import KaggleDatasetAdapter\n",
        "\n",
        "# Nome correto do arquivo\n",
        "file_path = \"Groceries_dataset.csv\"\n",
        "\n",
        "# Carregando o dataset\n",
        "df = kagglehub.load_dataset(\n",
        "    KaggleDatasetAdapter.PANDAS,\n",
        "    \"heeraldedhia/groceries-dataset\",\n",
        "    file_path\n",
        ")\n",
        "\n",
        "print(\"First 5 records:\")\n",
        "print(df.head())\n"
      ]
    },
    {
      "cell_type": "markdown",
      "source": [
        "Basket"
      ],
      "metadata": {
        "id": "Mvy4Jz0U_jmH"
      }
    },
    {
      "cell_type": "code",
      "source": [
        "!pip install mlxtend\n"
      ],
      "metadata": {
        "colab": {
          "base_uri": "https://localhost:8080/"
        },
        "id": "IcoliK4o_d2t",
        "outputId": "c2761d26-6069-45b8-a9c7-a7c7c501a39e"
      },
      "execution_count": 10,
      "outputs": [
        {
          "output_type": "stream",
          "name": "stdout",
          "text": [
            "Requirement already satisfied: mlxtend in /usr/local/lib/python3.11/dist-packages (0.23.4)\n",
            "Requirement already satisfied: scipy>=1.2.1 in /usr/local/lib/python3.11/dist-packages (from mlxtend) (1.15.3)\n",
            "Requirement already satisfied: numpy>=1.16.2 in /usr/local/lib/python3.11/dist-packages (from mlxtend) (2.0.2)\n",
            "Requirement already satisfied: pandas>=0.24.2 in /usr/local/lib/python3.11/dist-packages (from mlxtend) (2.2.2)\n",
            "Requirement already satisfied: scikit-learn>=1.3.1 in /usr/local/lib/python3.11/dist-packages (from mlxtend) (1.6.1)\n",
            "Requirement already satisfied: matplotlib>=3.0.0 in /usr/local/lib/python3.11/dist-packages (from mlxtend) (3.10.0)\n",
            "Requirement already satisfied: joblib>=0.13.2 in /usr/local/lib/python3.11/dist-packages (from mlxtend) (1.5.0)\n",
            "Requirement already satisfied: contourpy>=1.0.1 in /usr/local/lib/python3.11/dist-packages (from matplotlib>=3.0.0->mlxtend) (1.3.2)\n",
            "Requirement already satisfied: cycler>=0.10 in /usr/local/lib/python3.11/dist-packages (from matplotlib>=3.0.0->mlxtend) (0.12.1)\n",
            "Requirement already satisfied: fonttools>=4.22.0 in /usr/local/lib/python3.11/dist-packages (from matplotlib>=3.0.0->mlxtend) (4.57.0)\n",
            "Requirement already satisfied: kiwisolver>=1.3.1 in /usr/local/lib/python3.11/dist-packages (from matplotlib>=3.0.0->mlxtend) (1.4.8)\n",
            "Requirement already satisfied: packaging>=20.0 in /usr/local/lib/python3.11/dist-packages (from matplotlib>=3.0.0->mlxtend) (24.2)\n",
            "Requirement already satisfied: pillow>=8 in /usr/local/lib/python3.11/dist-packages (from matplotlib>=3.0.0->mlxtend) (11.2.1)\n",
            "Requirement already satisfied: pyparsing>=2.3.1 in /usr/local/lib/python3.11/dist-packages (from matplotlib>=3.0.0->mlxtend) (3.2.3)\n",
            "Requirement already satisfied: python-dateutil>=2.7 in /usr/local/lib/python3.11/dist-packages (from matplotlib>=3.0.0->mlxtend) (2.9.0.post0)\n",
            "Requirement already satisfied: pytz>=2020.1 in /usr/local/lib/python3.11/dist-packages (from pandas>=0.24.2->mlxtend) (2025.2)\n",
            "Requirement already satisfied: tzdata>=2022.7 in /usr/local/lib/python3.11/dist-packages (from pandas>=0.24.2->mlxtend) (2025.2)\n",
            "Requirement already satisfied: threadpoolctl>=3.1.0 in /usr/local/lib/python3.11/dist-packages (from scikit-learn>=1.3.1->mlxtend) (3.6.0)\n",
            "Requirement already satisfied: six>=1.5 in /usr/local/lib/python3.11/dist-packages (from python-dateutil>=2.7->matplotlib>=3.0.0->mlxtend) (1.17.0)\n"
          ]
        }
      ]
    },
    {
      "cell_type": "code",
      "source": [
        "import pandas as pd\n",
        "from mlxtend.frequent_patterns import apriori, association_rules\n",
        "\n",
        "# 1. Verifique os dados\n",
        "print(df.head())\n",
        "\n",
        "# 2. Agrupar itens por transação (Member_number + Date → uma cesta)\n",
        "df['Transaction'] = df['Member_number'].astype(str) + \"_\" + df['Date']\n",
        "basket = df.groupby(['Transaction'])['itemDescription'].apply(list)\n",
        "\n",
        "# 3. Transformar em formato de cesta binária (One-Hot Encoding)\n",
        "from mlxtend.preprocessing import TransactionEncoder\n",
        "\n",
        "te = TransactionEncoder()\n",
        "te_data = te.fit(basket).transform(basket)\n",
        "df_encoded = pd.DataFrame(te_data, columns=te.columns_)\n",
        "\n",
        "# 4. Aplicar Apriori para encontrar itemsets frequentes\n",
        "frequent_itemsets = apriori(df_encoded, min_support=0.01, use_colnames=True)\n",
        "\n",
        "# 5. Gerar regras de associação\n",
        "rules = association_rules(frequent_itemsets, metric=\"lift\", min_threshold=1.0)\n",
        "\n",
        "# 6. Exibir as melhores regras ordenadas por lift\n",
        "rules_sorted = rules.sort_values(by='lift', ascending=False)\n",
        "\n",
        "# Mostrar as 10 melhores\n",
        "print(\"\\nTop 10 Regras de Associação:\\n\")\n",
        "print(rules_sorted[['antecedents', 'consequents', 'support', 'confidence', 'lift']].head(10))\n"
      ],
      "metadata": {
        "colab": {
          "base_uri": "https://localhost:8080/"
        },
        "id": "qu_UQY6p-bv_",
        "outputId": "15ecd237-8081-475e-f17b-b4367599d259"
      },
      "execution_count": 9,
      "outputs": [
        {
          "output_type": "stream",
          "name": "stdout",
          "text": [
            "Requirement already satisfied: mlxtend in /usr/local/lib/python3.11/dist-packages (0.23.4)\n",
            "Requirement already satisfied: scipy>=1.2.1 in /usr/local/lib/python3.11/dist-packages (from mlxtend) (1.15.3)\n",
            "Requirement already satisfied: numpy>=1.16.2 in /usr/local/lib/python3.11/dist-packages (from mlxtend) (2.0.2)\n",
            "Requirement already satisfied: pandas>=0.24.2 in /usr/local/lib/python3.11/dist-packages (from mlxtend) (2.2.2)\n",
            "Requirement already satisfied: scikit-learn>=1.3.1 in /usr/local/lib/python3.11/dist-packages (from mlxtend) (1.6.1)\n",
            "Requirement already satisfied: matplotlib>=3.0.0 in /usr/local/lib/python3.11/dist-packages (from mlxtend) (3.10.0)\n",
            "Requirement already satisfied: joblib>=0.13.2 in /usr/local/lib/python3.11/dist-packages (from mlxtend) (1.5.0)\n",
            "Requirement already satisfied: contourpy>=1.0.1 in /usr/local/lib/python3.11/dist-packages (from matplotlib>=3.0.0->mlxtend) (1.3.2)\n",
            "Requirement already satisfied: cycler>=0.10 in /usr/local/lib/python3.11/dist-packages (from matplotlib>=3.0.0->mlxtend) (0.12.1)\n",
            "Requirement already satisfied: fonttools>=4.22.0 in /usr/local/lib/python3.11/dist-packages (from matplotlib>=3.0.0->mlxtend) (4.57.0)\n",
            "Requirement already satisfied: kiwisolver>=1.3.1 in /usr/local/lib/python3.11/dist-packages (from matplotlib>=3.0.0->mlxtend) (1.4.8)\n",
            "Requirement already satisfied: packaging>=20.0 in /usr/local/lib/python3.11/dist-packages (from matplotlib>=3.0.0->mlxtend) (24.2)\n",
            "Requirement already satisfied: pillow>=8 in /usr/local/lib/python3.11/dist-packages (from matplotlib>=3.0.0->mlxtend) (11.2.1)\n",
            "Requirement already satisfied: pyparsing>=2.3.1 in /usr/local/lib/python3.11/dist-packages (from matplotlib>=3.0.0->mlxtend) (3.2.3)\n",
            "Requirement already satisfied: python-dateutil>=2.7 in /usr/local/lib/python3.11/dist-packages (from matplotlib>=3.0.0->mlxtend) (2.9.0.post0)\n",
            "Requirement already satisfied: pytz>=2020.1 in /usr/local/lib/python3.11/dist-packages (from pandas>=0.24.2->mlxtend) (2025.2)\n",
            "Requirement already satisfied: tzdata>=2022.7 in /usr/local/lib/python3.11/dist-packages (from pandas>=0.24.2->mlxtend) (2025.2)\n",
            "Requirement already satisfied: threadpoolctl>=3.1.0 in /usr/local/lib/python3.11/dist-packages (from scikit-learn>=1.3.1->mlxtend) (3.6.0)\n",
            "Requirement already satisfied: six>=1.5 in /usr/local/lib/python3.11/dist-packages (from python-dateutil>=2.7->matplotlib>=3.0.0->mlxtend) (1.17.0)\n",
            "   Member_number        Date   itemDescription\n",
            "0           1808  21-07-2015    tropical fruit\n",
            "1           2552  05-01-2015        whole milk\n",
            "2           2300  19-09-2015         pip fruit\n",
            "3           1187  12-12-2015  other vegetables\n",
            "4           3037  01-02-2015        whole milk\n",
            "\n",
            "Top 10 Regras de Associação:\n",
            "\n",
            "Empty DataFrame\n",
            "Columns: [antecedents, consequents, support, confidence, lift]\n",
            "Index: []\n"
          ]
        }
      ]
    },
    {
      "cell_type": "code",
      "source": [
        "# Instale as dependências se estiver no Colab\n",
        "# !pip install kagglehub[pandas-datasets] mlxtend\n",
        "\n",
        "import kagglehub\n",
        "from kagglehub import KaggleDatasetAdapter\n",
        "import pandas as pd\n",
        "from mlxtend.frequent_patterns import apriori, association_rules\n",
        "from mlxtend.preprocessing import TransactionEncoder\n",
        "\n",
        "# Carregar o dataset\n",
        "file_path = \"Groceries_dataset.csv\"\n",
        "df = kagglehub.load_dataset(\n",
        "    KaggleDatasetAdapter.PANDAS,\n",
        "    \"heeraldedhia/groceries-dataset\",\n",
        "    file_path\n",
        ")\n",
        "\n",
        "print(\"Primeiros registros do dataset:\")\n",
        "print(df.head())\n",
        "\n",
        "# Agrupar os itens por transação (cesta) usando Member_number + Date\n",
        "df['Transaction'] = df['Member_number'].astype(str) + \"_\" + df['Date']\n",
        "basket = df.groupby(['Transaction'])['itemDescription'].apply(list)\n",
        "\n",
        "# Codificar transações em formato binário\n",
        "te = TransactionEncoder()\n",
        "te_data = te.fit(basket).transform(basket)\n",
        "df_encoded = pd.DataFrame(te_data, columns=te.columns_)\n",
        "\n",
        "# Aplicar Apriori com suporte mínimo mais baixo\n",
        "frequent_itemsets = apriori(df_encoded, min_support=0.002, use_colnames=True)\n",
        "\n",
        "print(\"\\nItemsets frequentes (top 10):\")\n",
        "print(frequent_itemsets.sort_values(by=\"support\", ascending=False).head(10))\n",
        "\n",
        "# Gerar regras de associação com lift >= 0.9\n",
        "rules = association_rules(frequent_itemsets, metric=\"lift\", min_threshold=0.9)\n",
        "\n",
        "# Filtrar regras com pelo menos 1 item em antecedente e consequente\n",
        "rules = rules[(rules['antecedents'].apply(len) >= 1) &\n",
        "              (rules['consequents'].apply(len) >= 1)]\n",
        "\n",
        "# Mostrar as 10 melhores regras\n",
        "print(\"\\nTop 10 Regras de Associação (ordenadas por lift):\")\n",
        "print(rules.sort_values(by='lift', ascending=False)[['antecedents', 'consequents', 'support', 'confidence', 'lift']].head(10))\n"
      ],
      "metadata": {
        "colab": {
          "base_uri": "https://localhost:8080/"
        },
        "id": "hNAvdjJXAQie",
        "outputId": "80d8d16a-6f5f-4cb2-acbd-2faa253c0a51"
      },
      "execution_count": 11,
      "outputs": [
        {
          "output_type": "stream",
          "name": "stderr",
          "text": [
            "<ipython-input-11-d93408bd7544>:12: DeprecationWarning: load_dataset is deprecated and will be removed in a future version.\n",
            "  df = kagglehub.load_dataset(\n"
          ]
        },
        {
          "output_type": "stream",
          "name": "stdout",
          "text": [
            "Primeiros registros do dataset:\n",
            "   Member_number        Date   itemDescription\n",
            "0           1808  21-07-2015    tropical fruit\n",
            "1           2552  05-01-2015        whole milk\n",
            "2           2300  19-09-2015         pip fruit\n",
            "3           1187  12-12-2015  other vegetables\n",
            "4           3037  01-02-2015        whole milk\n",
            "\n",
            "Itemsets frequentes (top 10):\n",
            "      support            itemsets\n",
            "123  0.157923        (whole milk)\n",
            "78   0.122101  (other vegetables)\n",
            "93   0.110005        (rolls/buns)\n",
            "104  0.097106              (soda)\n",
            "124  0.085879            (yogurt)\n",
            "94   0.069572   (root vegetables)\n",
            "116  0.067767    (tropical fruit)\n",
            "7    0.060683     (bottled water)\n",
            "99   0.060349           (sausage)\n",
            "24   0.053131      (citrus fruit)\n",
            "\n",
            "Top 10 Regras de Associação (ordenadas por lift):\n",
            "            antecedents          consequents   support  confidence      lift\n",
            "33               (curd)            (sausage)  0.002941    0.087302  1.446615\n",
            "32            (sausage)               (curd)  0.002941    0.048726  1.446615\n",
            "14        (brown bread)        (canned beer)  0.002406    0.063943  1.362937\n",
            "15        (canned beer)        (brown bread)  0.002406    0.051282  1.362937\n",
            "44  (frozen vegetables)            (sausage)  0.002072    0.073986  1.225966\n",
            "45            (sausage)  (frozen vegetables)  0.002072    0.034330  1.225966\n",
            "5        (bottled beer)            (sausage)  0.003342    0.073746  1.222000\n",
            "4             (sausage)       (bottled beer)  0.003342    0.055371  1.222000\n",
            "37        (frankfurter)   (other vegetables)  0.005146    0.136283  1.116150\n",
            "36   (other vegetables)        (frankfurter)  0.005146    0.042146  1.116150\n"
          ]
        }
      ]
    },
    {
      "cell_type": "code",
      "source": [
        "import pandas as pd\n",
        "\n",
        "# Instale a tabulate se ainda não tiver:\n",
        "\n",
        "# Cria o DataFrame com os insights\n",
        "df_insights = pd.DataFrame({\n",
        "    \"Insight\": [\n",
        "        \"Whole milk é o item mais frequente\",\n",
        "        \"curd → sausage (lift 1.45)\",\n",
        "        \"brown bread → canned beer\",\n",
        "        \"sausage é central em várias regras\",\n",
        "        \"Vegetais + frankfurter\"\n",
        "    ],\n",
        "    \"Ação Recomendável\": [\n",
        "        \"Destaque na loja/app\",\n",
        "        \"Promoção cruzada\",\n",
        "        \"Sugestão no carrinho\",\n",
        "        \"Produto-chave para estratégias\",\n",
        "        \"Perfil misto: saudável + rápido\"\n",
        "    ]\n",
        "})\n",
        "\n",
        "# Imprime o resumo visual em formato de tabela\n",
        "print(\"\\n🎯 Resumo Visual para Apresentação:\")\n",
        "print(\"-\" * 40)\n",
        "print(df_insights.to_markdown(index=False))\n"
      ],
      "metadata": {
        "colab": {
          "base_uri": "https://localhost:8080/"
        },
        "id": "iSWJfn-VNUT7",
        "outputId": "bcc4fe11-a3f9-4afd-c314-8fd8ba3477a1"
      },
      "execution_count": 2,
      "outputs": [
        {
          "output_type": "stream",
          "name": "stdout",
          "text": [
            "\n",
            "🎯 Resumo Visual para Apresentação:\n",
            "----------------------------------------\n",
            "| Insight                            | Ação Recomendável               |\n",
            "|:-----------------------------------|:--------------------------------|\n",
            "| Whole milk é o item mais frequente | Destaque na loja/app            |\n",
            "| curd → sausage (lift 1.45)         | Promoção cruzada                |\n",
            "| brown bread → canned beer          | Sugestão no carrinho            |\n",
            "| sausage é central em várias regras | Produto-chave para estratégias  |\n",
            "| Vegetais + frankfurter             | Perfil misto: saudável + rápido |\n"
          ]
        }
      ]
    }
  ]
}